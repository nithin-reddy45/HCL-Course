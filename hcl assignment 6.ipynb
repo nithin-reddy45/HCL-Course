{
 "cells": [
  {
   "cell_type": "code",
   "execution_count": 6,
   "id": "2ac622e3-fdd6-49c8-ada0-39eb3d7cd765",
   "metadata": {},
   "outputs": [
    {
     "name": "stdout",
     "output_type": "stream",
     "text": [
      "Nithin \n",
      "Karthik\n",
      "Harsha\n",
      "Shankar\n",
      "Jaya prakash\n"
     ]
    }
   ],
   "source": [
    "filename=\"students.txt\"\n",
    "with open(filename,\"r\") as file:\n",
    "    content=file.read()\n",
    "    print(content)"
   ]
  },
  {
   "cell_type": "code",
   "execution_count": 12,
   "id": "accf790c-6782-4ea1-94b0-59b51c2b618f",
   "metadata": {},
   "outputs": [
    {
     "name": "stdout",
     "output_type": "stream",
     "text": [
      "successfully wrote in the file\n",
      "Nithin:A\n",
      "Harsha:A\n",
      "Shankar:B\n",
      "Karthik:B\n",
      "Jaya prakash:B\n"
     ]
    }
   ],
   "source": [
    "filename=\"grades.txt\"\n",
    "with open(filename,\"w\") as file:\n",
    "    file.write(\"Nithin:A\\nHarsha:A\\nShankar:B\\nKarthik:B\\nJaya prakash:B\")\n",
    "    print(\"successfully wrote in the file\")\n",
    "with open(filename,\"r\") as file:\n",
    "    content=file.read()\n",
    "    print(content)"
   ]
  },
  {
   "cell_type": "code",
   "execution_count": 30,
   "id": "56c7395b-8483-40fa-a2b8-3f753ee3d449",
   "metadata": {},
   "outputs": [
    {
     "name": "stdout",
     "output_type": "stream",
     "text": [
      "nithin,6305782910,nithin@gmail.com\n",
      "harsha,8885677365,harsha@gmail.com\n",
      "shankar,7989379876,shankar@gmail.comkarthik reddy,8688329808,karthikreddythumma@gmail.com\n",
      "\n",
      "successfully appended\n"
     ]
    }
   ],
   "source": [
    "with open(\"contacts.txt\",\"r\") as file:\n",
    "    content=file.read()\n",
    "    print(content)\n",
    "with open(\"contacts.txt\",\"a\") as file:\n",
    "    file.write(\"karthik reddy,8688329808,karthikreddythumma@gmail.com\")\n",
    "    print(\"\\nsuccessfully appended\")"
   ]
  },
  {
   "cell_type": "code",
   "execution_count": 32,
   "id": "b5a4a3ab-5b76-427b-9b20-7249ec0ecf8b",
   "metadata": {},
   "outputs": [
    {
     "name": "stdout",
     "output_type": "stream",
     "text": [
      "successfully stored in output_file\n"
     ]
    }
   ],
   "source": [
    "input_file = \"log.txt\"\n",
    "output_file = \"error_logs.txt\"\n",
    "with open(input_file, \"r\") as infile, open(output_file, \"w\") as outfile:\n",
    "    for line in infile:\n",
    "        if \"ERROR\" in line: \n",
    "            outfile.write(line) \n",
    "print(\"successfully stored in output_file\")"
   ]
  },
  {
   "cell_type": "code",
   "execution_count": 25,
   "id": "cf766695-7be7-4dfe-b611-fa51364f8793",
   "metadata": {},
   "outputs": [
    {
     "name": "stdout",
     "output_type": "stream",
     "text": [
      "Karthik-99\n"
     ]
    }
   ],
   "source": [
    "import csv\n",
    "filename = \"students.csv\"\n",
    "highest_marks = -1\n",
    "top_student = \"\"\n",
    "with open(filename, \"r\") as csvfile:\n",
    "    reader = csv.reader(csvfile)\n",
    "    for row in reader:\n",
    "        name, marks = row[0], int(row[1]) \n",
    "        if marks > highest_marks: \n",
    "            highest_marks = marks\n",
    "            top_student = name\n",
    "print(f\"{top_student}-{highest_marks}\")"
   ]
  },
  {
   "cell_type": "code",
   "execution_count": null,
   "id": "c45dbddf-3ed5-4ebf-a845-eed08ac44009",
   "metadata": {},
   "outputs": [],
   "source": []
  }
 ],
 "metadata": {
  "kernelspec": {
   "display_name": "Python [conda env:base] *",
   "language": "python",
   "name": "conda-base-py"
  },
  "language_info": {
   "codemirror_mode": {
    "name": "ipython",
    "version": 3
   },
   "file_extension": ".py",
   "mimetype": "text/x-python",
   "name": "python",
   "nbconvert_exporter": "python",
   "pygments_lexer": "ipython3",
   "version": "3.12.7"
  }
 },
 "nbformat": 4,
 "nbformat_minor": 5
}
