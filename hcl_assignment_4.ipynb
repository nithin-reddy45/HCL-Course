{
  "cells": [
    {
      "cell_type": "markdown",
      "metadata": {
        "id": "view-in-github",
        "colab_type": "text"
      },
      "source": [
        "<a href=\"https://colab.research.google.com/github/nithin-reddy45/HCL-Course/blob/main/hcl_assignment_4.ipynb\" target=\"_parent\"><img src=\"https://colab.research.google.com/assets/colab-badge.svg\" alt=\"Open In Colab\"/></a>"
      ]
    },
    {
      "cell_type": "code",
      "execution_count": null,
      "id": "151386c6-5c5d-4c38-8d1a-41fe8807b859",
      "metadata": {
        "id": "151386c6-5c5d-4c38-8d1a-41fe8807b859",
        "outputId": "6e5c3cad-2b2c-4add-b155-6d9bb717427e"
      },
      "outputs": [
        {
          "name": "stdout",
          "output_type": "stream",
          "text": [
            "these products are sold more than 50 units: ['Phone', 'Headphones', 'Keyboard']\n",
            "total sales of each product: [24000, 35000, 15000, 6000, 5000]\n",
            "product that have total sales greater than 1000: ['Laptop', 'Phone', 'Headphones', 'Monitor', 'Keyboard']\n",
            "products that have sold more than 100 units: ['Headphones']\n",
            "price of each product after discount: [720.0, 450.0, 90.0, 270.0, 45.0]\n"
          ]
        }
      ],
      "source": [
        "sales_data = [ {'product_id': 1, 'product_name': 'Laptop', 'quantity_sold': 30, 'price_per_unit': 800},\n",
        "              {'product_id': 2, 'product_name': 'Phone', 'quantity_sold': 70, 'price_per_unit': 500},\n",
        "              {'product_id': 3, 'product_name': 'Headphones', 'quantity_sold': 150, 'price_per_unit': 100},\n",
        "              {'product_id': 4, 'product_name': 'Monitor', 'quantity_sold': 20, 'price_per_unit': 300},\n",
        "              {'product_id': 5, 'product_name': 'Keyboard', 'quantity_sold': 100, 'price_per_unit': 50}\n",
        "             ]\n",
        "quantity_sold_greaterthan_50=[item[\"product_name\"] for item in sales_data if item[\"quantity_sold\"]>50]\n",
        "print(\"these products are sold more than 50 units:\",quantity_sold_greaterthan_50)\n",
        "total_sales=[item[\"quantity_sold\"]*item[\"price_per_unit\"] for item in sales_data]\n",
        "print(\"total sales of each product:\",total_sales)\n",
        "sales_exceed=[item[\"product_name\"] for item in sales_data if  item[\"quantity_sold\"]*item[\"price_per_unit\"]>1000]\n",
        "print(\"product that have total sales greater than 1000:\",sales_exceed)\n",
        "product_morethan_100_units_sold=[item[\"product_name\"] for item in sales_data if item[\"quantity_sold\"]>100]\n",
        "print(\"products that have sold more than 100 units:\",product_morethan_100_units_sold)\n",
        "discount=[item['price_per_unit']-item['price_per_unit']*0.1 for item in sales_data if item['price_per_unit']>20 ]\n",
        "print(\"price of each product after discount:\",discount)\n"
      ]
    },
    {
      "cell_type": "code",
      "execution_count": null,
      "id": "b1e5095a-508b-4b26-ab67-3c8925acf89a",
      "metadata": {
        "id": "b1e5095a-508b-4b26-ab67-3c8925acf89a",
        "outputId": "8fa3782a-0b3e-4943-d2bc-e0e7b958b7bf"
      },
      "outputs": [
        {
          "name": "stdout",
          "output_type": "stream",
          "text": [
            "students who score more than 80 grade: ['Alice', 'Eve']\n",
            "failed students: ['Bob', 'David']\n",
            "adjusted grades: [85, 50, 75, 55, 95]\n",
            "top 3 students: ['Eve', 'Alice', 'Charlie']\n",
            "grades for each students ['A', 'B', 'C', 'E', 'E']\n"
          ]
        }
      ],
      "source": [
        "students = [ {'name': 'Alice', 'grade': 85},\n",
        "            {'name': 'Bob', 'grade': 45},\n",
        "            {'name': 'Charlie', 'grade': 75},\n",
        "            {'name': 'David', 'grade': 50},\n",
        "            {'name': 'Eve', 'grade': 95}\n",
        "           ]\n",
        "students_grade_greaterthan80=[item['name'] for item in students if item['grade']>80]\n",
        "print(\"students who score more than 80 grade:\",students_grade_greaterthan80)\n",
        "failed_students=[item['name'] for item in students if item['grade']<=50]\n",
        "print(\"failed students:\",failed_students)\n",
        "adjust_grades=[item['grade']+5 if item['grade']<=50 else item['grade'] for item in students]\n",
        "print(\"adjusted grades:\",adjust_grades)\n",
        "for i in range(len(students)):\n",
        "    for j in range(i+1,len(students)):\n",
        "        if students[i]['grade']<students[j]['grade']:\n",
        "            students[i],students[j]=students[j],students[i]\n",
        "top_3_students=[]\n",
        "for i in range(3):\n",
        "    top_3_students.append(students[i]['name'])\n",
        "print(\"top 3 students:\",top_3_students)\n",
        "grade_classification=[\"A\"if item['grade']>=90 else \"B\" if item['grade']>80 else  \"C\" if item['grade']>70 else \"D\" if item['grade']>60 else\"E\" for item in students ]\n",
        "print(\"grades for each students\",grade_classification)"
      ]
    },
    {
      "cell_type": "code",
      "execution_count": null,
      "id": "f60b4d72-0b6d-489e-9e9e-dacd19d3ccfc",
      "metadata": {
        "id": "f60b4d72-0b6d-489e-9e9e-dacd19d3ccfc",
        "outputId": "18407a1e-2100-4c59-c482-7e1b34cfab53"
      },
      "outputs": [
        {
          "name": "stdout",
          "output_type": "stream",
          "text": [
            "after converting fahrenheit temperature into celsius [0.0, 7.222222222222222, 10.0, 23.88888888888889, 35.0, 37.77777777777778]\n",
            "the freezing temperatures are: []\n",
            "average temperature of all days 18.98148148148148\n",
            "the temperatures above average temperature: [23.88888888888889, 35.0, 37.77777777777778]\n",
            "rounded temperatures are: [0.0, 7.2, 10.0, 23.9, 35.0, 37.8]\n",
            "days above 30 temperature: [35.0, 37.77777777777778]\n"
          ]
        }
      ],
      "source": [
        "weather_data = [32, 45, 50, 75, 95, 100]\n",
        "celsius=[(f-32)*(5/9) for f in weather_data]\n",
        "print(\"after converting fahrenheit temperature into celsius\",celsius)\n",
        "freezing=[c for c in celsius if c<0]\n",
        "print(\"the freezing temperatures are:\",freezing)\n",
        "sum=0\n",
        "for c in range(len(celsius)):\n",
        "    sum += celsius[c]\n",
        "average=sum/len(celsius)\n",
        "print(\"average temperature of all days\",average)\n",
        "above_avg_temp=[c for c in celsius if c>average]\n",
        "print(\"the temperatures above average temperature:\",above_avg_temp)\n",
        "round_celsius=[round(c,1) for c in celsius ]\n",
        "print(\"rounded temperatures are:\",round_celsius)\n",
        "above_30=[c for c in celsius if c>30]\n",
        "print(\"days above 30 temperature:\",above_30)"
      ]
    },
    {
      "cell_type": "code",
      "execution_count": null,
      "id": "ee5ab58e-b5bb-4ac5-90f2-6997a8558775",
      "metadata": {
        "id": "ee5ab58e-b5bb-4ac5-90f2-6997a8558775",
        "outputId": "2720679a-9505-43b8-b87a-ae8143ad49cc"
      },
      "outputs": [
        {
          "name": "stdout",
          "output_type": "stream",
          "text": [
            "the active status emails are: ['alice@gmail.com', 'charlie@gmail.com', 'david@hotmail.com']\n",
            "the mails which contain gmail: ['alice@gmail.com', 'charlie@gmail.com', 'eve@gmail.com']\n",
            "the user names are: ['alice', 'bob', 'charlie', 'david', 'eve']\n",
            "the user with yahoo domain: ['Bob']\n",
            "the list of tuples with name and email [('Alice', 'alice@gmail.com'), ('Bob', 'bob@yahoo.com'), ('Charlie', 'charlie@gmail.com'), ('David', 'david@hotmail.com'), ('Eve', 'eve@gmail.com')]\n"
          ]
        }
      ],
      "source": [
        "users = [ {'name': 'Alice', 'email': 'alice@gmail.com', 'status': 'active'},\n",
        "         {'name': 'Bob', 'email': 'bob@yahoo.com', 'status': 'inactive'},\n",
        "         {'name': 'Charlie', 'email': 'charlie@gmail.com', 'status': 'active'},\n",
        "         {'name': 'David', 'email': 'david@hotmail.com', 'status': 'active'},\n",
        "         {'name': 'Eve', 'email': 'eve@gmail.com', 'status': 'inactive'} ]\n",
        "active_emails=[item['email'] for item in users if item['status']==\"active\"]\n",
        "print(\"the active status emails are:\",active_emails)\n",
        "gmail_contain_emails=[item['email'] for item in users if \"gmail\" in item['email']]\n",
        "print(\"the mails which contain gmail:\",gmail_contain_emails)\n",
        "usernames = [item['email'].split('@')[0] for item in users]\n",
        "print(\"the user names are:\",usernames)\n",
        "users_with_domain = [item['name'] for item in users if item['email'].split('@')[1] == \"yahoo.com\"]\n",
        "print(\"the user with yahoo domain:\",users_with_domain)\n",
        "name_email=[(item['name'],item['email']) for item in users]\n",
        "print( \"the list of tuples with name and email\",name_email)\n"
      ]
    },
    {
      "cell_type": "code",
      "execution_count": null,
      "id": "106c6738-8649-40f1-8f33-5feb529ac27a",
      "metadata": {
        "id": "106c6738-8649-40f1-8f33-5feb529ac27a"
      },
      "outputs": [],
      "source": []
    }
  ],
  "metadata": {
    "kernelspec": {
      "display_name": "Python [conda env:base] *",
      "language": "python",
      "name": "conda-base-py"
    },
    "language_info": {
      "codemirror_mode": {
        "name": "ipython",
        "version": 3
      },
      "file_extension": ".py",
      "mimetype": "text/x-python",
      "name": "python",
      "nbconvert_exporter": "python",
      "pygments_lexer": "ipython3",
      "version": "3.12.7"
    },
    "colab": {
      "provenance": [],
      "include_colab_link": true
    }
  },
  "nbformat": 4,
  "nbformat_minor": 5
}