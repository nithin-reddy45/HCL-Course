{
 "cells": [
  {
   "cell_type": "markdown",
   "id": "c2f8a5fb-fffa-41b2-8060-23914ac661d1",
   "metadata": {},
   "source": [
    "##### lists #####"
   ]
  },
  {
   "cell_type": "code",
   "execution_count": 32,
   "id": "814238d1-fc66-4d54-a468-233a2da53db4",
   "metadata": {},
   "outputs": [
    {
     "name": "stdout",
     "output_type": "stream",
     "text": [
      "after adding one rating then the list is: [4.5, 3.8, 4.9, 2.7, 3.5, 4.2, 4.7]\n",
      "after deleting lowest rating then the list is: [4.5, 3.8, 4.9, 3.5, 4.2, 4.7]\n",
      "the highest rating in the list is: 4.9\n",
      "sum of all ratings: 25.6\n",
      "Average rating of given list is: 4.266666666666667\n"
     ]
    }
   ],
   "source": [
    "ratings=[4.5,3.8,4.9,2.7,3.5,4.2]\n",
    "ratings.append(4.7)\n",
    "print(\"after adding one rating then the list is:\",ratings)\n",
    "ratings.remove(min(ratings))\n",
    "print(\"after deleting lowest rating then the list is:\",ratings)\n",
    "print(\"the highest rating in the list is:\",max(ratings))\n",
    "sum=0\n",
    "for rating in ratings:\n",
    "    sum += rating\n",
    "print(\"sum of all ratings:\",sum)\n",
    "average_rating=sum/len(ratings)\n",
    "print(\"Average rating of given list is:\",average_rating)"
   ]
  },
  {
   "cell_type": "markdown",
   "id": "5d85248a-0ab4-49ec-b26f-ba1e642deb4a",
   "metadata": {},
   "source": [
    "##### tuples #####"
   ]
  },
  {
   "cell_type": "code",
   "execution_count": 62,
   "id": "86914325-c66a-49b5-a9bb-4bce06881f64",
   "metadata": {},
   "outputs": [
    {
     "name": "stdout",
     "output_type": "stream",
     "text": [
      "after converting itinerary tuple into list and replaced dubai with Singapore: ['Paris', 'London', 'New York', 'Singapore', 'Tokyo']\n",
      "updated itinerary tuple is: ('Paris', 'London', 'New York', 'Singapore', 'Tokyo')\n",
      "first three destinations: ('Paris', 'London', 'New York')\n"
     ]
    }
   ],
   "source": [
    "itinerary=(\"Paris\",\"London\",\"New York\",\"Dubai\",\"Tokyo\")\n",
    "list1=list(itinerary)\n",
    "list1[3]=\"Singapore\"\n",
    "print(\"after converting itinerary tuple into list and replaced dubai with Singapore:\",list1)\n",
    "updated_itinerary=tuple(list1)\n",
    "print(\"updated itinerary tuple is:\",(updated_itinerary))\n",
    "print(\"first three destinations:\",updated_itinerary[0:3])"
   ]
  },
  {
   "cell_type": "markdown",
   "id": "b908c9cc-7ccd-408a-a830-50b70bc64b53",
   "metadata": {},
   "source": [
    "##### dictionaries #####"
   ]
  },
  {
   "cell_type": "code",
   "execution_count": 86,
   "id": "fdaa2a5d-938d-4ab2-9cf7-00b4e46cb85c",
   "metadata": {},
   "outputs": [
    {
     "name": "stdout",
     "output_type": "stream",
     "text": [
      "after adding new employee into dictionary: {'Alice': 5000, 'Bob': 7000, 'Charlie': 6500, 'David': 6000}\n",
      "after updating the bob salary: {'Alice': 5000, 'Bob': 7500, 'Charlie': 6500, 'David': 6000}\n",
      "after deleting an employee from dictionary: {'Alice': 5000, 'Bob': 7500, 'David': 6000}\n",
      "persons who earn more than 6000: {'Bob'}\n"
     ]
    }
   ],
   "source": [
    "salaries={\n",
    "    \"Alice\":5000,\n",
    "    \"Bob\":7000,\n",
    "    \"Charlie\":6500\n",
    "}\n",
    "salaries[\"David\"]=6000\n",
    "print(\"after adding new employee into dictionary:\",salaries)\n",
    "salaries[\"Bob\"]=7500\n",
    "print(\"after updating the bob salary:\",salaries)\n",
    "del salaries[\"Charlie\"]\n",
    "print(\"after deleting an employee from dictionary:\",salaries)\n",
    "employee_earn_6000={key for key,value in salaries.items() if value>6000}\n",
    "print(\"persons who earn more than 6000:\",employee_earn_6000)\n",
    "\n",
    "\n",
    "\n"
   ]
  },
  {
   "cell_type": "markdown",
   "id": "33dcb48b-ddc3-401b-94a3-58b7055c98b1",
   "metadata": {},
   "source": [
    "##### lists and dictionaries #####"
   ]
  },
  {
   "cell_type": "code",
   "execution_count": 65,
   "id": "3ed4c546-aec6-4121-9dd1-6c1bb21f1703",
   "metadata": {},
   "outputs": [
    {
     "name": "stdout",
     "output_type": "stream",
     "text": [
      "after adding item in cart: {'Laptop': 1200, 'Headphones': 200, 'Mouse': 50, 'Keyboard': 100, 'Monitor': 300}\n",
      "total cost of the cart: 1850\n",
      "you save 185.0 rupees on this cart\n",
      "amount to pay after discount: 1665.0\n"
     ]
    }
   ],
   "source": [
    "cart={\n",
    "    \"Laptop\":1200,\n",
    "    \"Headphones\":200,\n",
    "    \"Mouse\":50,\n",
    "    \"Keyboard\":100\n",
    "}\n",
    "cart[\"Monitor\"]=300\n",
    "print(\"after adding item in cart:\",cart)\n",
    "total_cost=sum(cart.values())\n",
    "print(\"total cost of the cart:\",total_cost)\n",
    "discount=0.1*total_cost\n",
    "print(f\"you save {discount} rupees on this cart\")\n",
    "if total_cost>1000:\n",
    "    print(\"amount to pay after discount:\",total_cost-discount)\n",
    "else:\n",
    "    print(\"amount to pay:\",total_cost)\n"
   ]
  },
  {
   "cell_type": "code",
   "execution_count": 63,
   "id": "45d67565-5f7d-487f-a701-d69f6ac8a27e",
   "metadata": {},
   "outputs": [
    {
     "name": "stdout",
     "output_type": "stream",
     "text": [
      "After adding a student's details into dictionary: {'John': [85, 78, 92], 'Emma': [90, 88, 79], 'Liam': [76, 85, 80], 'Sophia': [88, 91, 84]}\n",
      "The average marks of John are: 85.0\n",
      "The average marks of Emma are: 85.66666666666667\n",
      "The average marks of Liam are: 80.33333333333333\n",
      "The average marks of Sophia are: 87.66666666666667\n",
      "The student with the highest average marks is Sophia with an average of 87.66666666666667\n"
     ]
    }
   ],
   "source": [
    "students = {\n",
    "    \"John\": [85, 78, 92],\n",
    "    \"Emma\": [90, 88, 79],\n",
    "    \"Liam\": [76, 85, 80]\n",
    "}\n",
    "students[\"Sophia\"] = [88, 91, 84]\n",
    "print(\"After adding a student's details into dictionary:\", students)\n",
    "average_marks = {}\n",
    "for student, marks in students.items():\n",
    "    average = sum(marks) / len(marks)\n",
    "    average_marks[student] = average\n",
    "    print(f\"The average marks of {student} are: {average:}\")\n",
    "top_student = max(average_marks)\n",
    "print(f\"The student with the highest average marks is {top_student} with an average of {average_marks[top_student]:}\")\n",
    "\n",
    "\n"
   ]
  },
  {
   "cell_type": "code",
   "execution_count": null,
   "id": "6b3b48ac-d67c-42a5-911f-3c034975baef",
   "metadata": {},
   "outputs": [],
   "source": []
  }
 ],
 "metadata": {
  "kernelspec": {
   "display_name": "Python [conda env:base] *",
   "language": "python",
   "name": "conda-base-py"
  },
  "language_info": {
   "codemirror_mode": {
    "name": "ipython",
    "version": 3
   },
   "file_extension": ".py",
   "mimetype": "text/x-python",
   "name": "python",
   "nbconvert_exporter": "python",
   "pygments_lexer": "ipython3",
   "version": "3.12.7"
  }
 },
 "nbformat": 4,
 "nbformat_minor": 5
}
