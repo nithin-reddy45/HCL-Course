{
  "cells": [
    {
      "cell_type": "markdown",
      "metadata": {
        "id": "view-in-github",
        "colab_type": "text"
      },
      "source": [
        "<a href=\"https://colab.research.google.com/github/nithin-reddy45/HCL-Course/blob/main/hcl_tech_assignment_1.ipynb\" target=\"_parent\"><img src=\"https://colab.research.google.com/assets/colab-badge.svg\" alt=\"Open In Colab\"/></a>"
      ]
    },
    {
      "cell_type": "code",
      "execution_count": null,
      "id": "a6420ba7-fd59-4d2e-9848-606c9a3e4bf6",
      "metadata": {
        "scrolled": true,
        "id": "a6420ba7-fd59-4d2e-9848-606c9a3e4bf6",
        "outputId": "27510b91-b38e-4f62-a20e-d92fcb972e1b"
      },
      "outputs": [
        {
          "name": "stdin",
          "output_type": "stream",
          "text": [
            "Enter the radius of require table: 6\n"
          ]
        },
        {
          "name": "stdout",
          "output_type": "stream",
          "text": [
            "area of the table 113.09733552923255\n"
          ]
        }
      ],
      "source": [
        " import math\n",
        "radius=float(input(\"Enter the radius of require table:\"))\n",
        "area=math.pi*radius**2\n",
        "print(\"area of the table\",area)"
      ]
    },
    {
      "cell_type": "code",
      "execution_count": null,
      "id": "cc6320d7-df22-4e8f-b2e2-3bef9cf137d3",
      "metadata": {
        "id": "cc6320d7-df22-4e8f-b2e2-3bef9cf137d3",
        "outputId": "1f93b69d-a1aa-4d90-b19c-0e067ce1d599"
      },
      "outputs": [
        {
          "name": "stdin",
          "output_type": "stream",
          "text": [
            "enter number of cesius temperature: 30\n"
          ]
        },
        {
          "name": "stdout",
          "output_type": "stream",
          "text": [
            "86.0\n"
          ]
        }
      ],
      "source": [
        "celsius=float(input(\"enter number of cesius temperature:\"))\n",
        "fahrenheit=(celsius*(9/5))+32\n",
        "print(fahrenheit)"
      ]
    },
    {
      "cell_type": "code",
      "execution_count": null,
      "id": "2fbb8d64-2eb2-4ae1-a800-a4d64f1ffed3",
      "metadata": {
        "id": "2fbb8d64-2eb2-4ae1-a800-a4d64f1ffed3",
        "outputId": "0d8d9987-9354-4a9f-a57c-c360e7e04739"
      },
      "outputs": [
        {
          "name": "stdin",
          "output_type": "stream",
          "text": [
            "Enter the temperature:  45\n",
            "Enter the current scale (Celsius or Fahrenheit):  celsius\n"
          ]
        },
        {
          "name": "stdout",
          "output_type": "stream",
          "text": [
            "45.0°C is equal to 113.00°F\n"
          ]
        }
      ],
      "source": [
        "def temperature(temp, scale):\n",
        "    if scale == 'celsius':\n",
        "        converted_temp = (temp * 9/5) + 32\n",
        "        return f\"{temp}°C is equal to {converted_temp:.2f}°F\"\n",
        "    elif scale == 'fahrenheit':\n",
        "        converted_temp = (temp - 32) * 5/9\n",
        "        return f\"{temp}°F is equal to {converted_temp:.2f}°C\"\n",
        "    else:\n",
        "        return \"Please enter a valid scale: 'Celsius' or 'Fahrenheit'.\"\n",
        "temp = float(input(\"Enter the temperature: \"))\n",
        "scale = input(\"Enter the current scale (Celsius or Fahrenheit): \")\n",
        "result = temperature(temp, scale)\n",
        "print(result)\n"
      ]
    },
    {
      "cell_type": "code",
      "execution_count": null,
      "id": "b58086e1-5c3d-4ce4-98b9-b8c1eb270146",
      "metadata": {
        "id": "b58086e1-5c3d-4ce4-98b9-b8c1eb270146",
        "outputId": "2722d12f-96a3-4256-c34e-4a3415b8492a"
      },
      "outputs": [
        {
          "name": "stdin",
          "output_type": "stream",
          "text": [
            "Amount in INR:  10000\n",
            "Target currency (USD, EUR, GBP):  EUR\n"
          ]
        },
        {
          "name": "stdout",
          "output_type": "stream",
          "text": [
            "10000.0 INR is 110.00 EUR\n"
          ]
        }
      ],
      "source": [
        "\n",
        "rates = {'USD': 0.012, 'EUR': 0.011, 'GBP': 0.009}\n",
        "amount_inr = float(input(\"Amount in INR: \"))\n",
        "currency = input(\"Target currency (USD, EUR, GBP): \")\n",
        "if currency in rates:\n",
        "    converted_amount = amount_inr * rates[currency]\n",
        "    print(f\"{amount_inr} INR is {converted_amount:.2f} {currency}\")\n",
        "else:\n",
        "    print(\"Valid currencies: USD, EUR, GBP.\")\n"
      ]
    },
    {
      "cell_type": "code",
      "execution_count": null,
      "id": "dcbf45ea-f018-465b-a26a-6cce838b6abc",
      "metadata": {
        "id": "dcbf45ea-f018-465b-a26a-6cce838b6abc",
        "outputId": "371e538d-cb19-41fa-9a9f-8a8180c3e591"
      },
      "outputs": [
        {
          "name": "stdin",
          "output_type": "stream",
          "text": [
            "enter marks obtained in a subject: 95\n",
            "enter total marks of subject: 100\n"
          ]
        },
        {
          "name": "stdout",
          "output_type": "stream",
          "text": [
            "95.0\n"
          ]
        }
      ],
      "source": [
        "marks_obtained=float(input(\"enter marks obtained in a subject:\"))\n",
        "total_marks=float(input(\"enter total marks of subject:\"))\n",
        "percentage=(marks_obtained/total_marks)*100\n",
        "print(\"percentage:\",percentage)"
      ]
    },
    {
      "cell_type": "code",
      "execution_count": null,
      "id": "3f15d4f9-9cf9-458a-a11c-ecbc941e24f4",
      "metadata": {
        "id": "3f15d4f9-9cf9-458a-a11c-ecbc941e24f4",
        "outputId": "8d4e5580-7195-4fe6-cb27-33eac1e65614"
      },
      "outputs": [
        {
          "name": "stdin",
          "output_type": "stream",
          "text": [
            "enter the bill amount: 5000\n"
          ]
        },
        {
          "name": "stdout",
          "output_type": "stream",
          "text": [
            "Total amount on bill is: 5500.0\n"
          ]
        }
      ],
      "source": [
        "bill_amount=float(input(\"enter the bill amount:\"))\n",
        "service_tax=bill_amount*(10/100)\n",
        "total_amount=bill_amount+service_tax\n",
        "print(\"Total amount on bill is:\",total_amount)"
      ]
    },
    {
      "cell_type": "code",
      "execution_count": null,
      "id": "08b6924d-cbf2-4253-a393-679cb64984c6",
      "metadata": {
        "id": "08b6924d-cbf2-4253-a393-679cb64984c6",
        "outputId": "ca38e4e0-1742-450d-e458-bb7492530b83"
      },
      "outputs": [
        {
          "name": "stdin",
          "output_type": "stream",
          "text": [
            "enter principle amount: 50000\n",
            "enter rate of interest: 6\n",
            "enter time: 2\n"
          ]
        },
        {
          "name": "stdout",
          "output_type": "stream",
          "text": [
            "simple interest: 6000.0\n"
          ]
        }
      ],
      "source": [
        "principle_amount=int(input(\"enter principle amount:\"))\n",
        "rate_of_interest=float(input(\"enter rate of interest:\"))\n",
        "time=float(input(\"enter time:\"))\n",
        "simple_interest =(principle_amount*rate_of_interest*time)/100\n",
        "print(\"simple interest:\",simple_interest)"
      ]
    },
    {
      "cell_type": "code",
      "execution_count": null,
      "id": "fd9928db-7f84-4813-a6d4-0b546d781091",
      "metadata": {
        "id": "fd9928db-7f84-4813-a6d4-0b546d781091",
        "outputId": "9f1b7e38-f0f2-423e-9aed-d092f24ad5bb"
      },
      "outputs": [
        {
          "name": "stdin",
          "output_type": "stream",
          "text": [
            "enter length: 5\n",
            "enter width: 6\n"
          ]
        },
        {
          "name": "stdout",
          "output_type": "stream",
          "text": [
            "perimeter: 22.0\n"
          ]
        }
      ],
      "source": [
        "length=float(input(\"enter length:\"))\n",
        "width=float(input(\"enter width:\"))\n",
        "perimeter=2*(length+width)\n",
        "print(\"perimeter:\",perimeter)"
      ]
    },
    {
      "cell_type": "code",
      "execution_count": null,
      "id": "55df542d-9360-4a2b-927d-f3cb5bf9858f",
      "metadata": {
        "id": "55df542d-9360-4a2b-927d-f3cb5bf9858f",
        "outputId": "5bf69cae-6829-44a4-fb06-c4be418fdbe2"
      },
      "outputs": [
        {
          "name": "stdin",
          "output_type": "stream",
          "text": [
            "enter radius: 5\n"
          ]
        },
        {
          "name": "stdout",
          "output_type": "stream",
          "text": [
            "volume of sphere: 523.5987755982989\n"
          ]
        }
      ],
      "source": [
        "import math\n",
        "r=float(input(\"enter radius:\"))\n",
        "volume=(4/3)*math.pi*r**3\n",
        "print(\"volume of sphere:\",volume)"
      ]
    },
    {
      "cell_type": "code",
      "execution_count": null,
      "id": "6dcf3b86-defe-461d-a8a0-d03692a95559",
      "metadata": {
        "id": "6dcf3b86-defe-461d-a8a0-d03692a95559",
        "outputId": "d6c681fc-b8c3-4aa8-d863-ff09848b1419"
      },
      "outputs": [
        {
          "name": "stdin",
          "output_type": "stream",
          "text": [
            "enter your age: 12\n"
          ]
        },
        {
          "name": "stdout",
          "output_type": "stream",
          "text": [
            "you are not eligible for voting\n"
          ]
        }
      ],
      "source": [
        "age=int(input(\"enter your age:\",))\n",
        "if age<18:\n",
        "    print(\"you are not eligible for voting\")\n",
        "else:\n",
        "    print(\"you are eligible for voting\")"
      ]
    },
    {
      "cell_type": "code",
      "execution_count": null,
      "id": "2a9b5866-3ccd-4604-8e4b-9793c4962cfc",
      "metadata": {
        "id": "2a9b5866-3ccd-4604-8e4b-9793c4962cfc",
        "outputId": "f60f23bd-fc54-47b4-8aad-df0f0b7fc1b7"
      },
      "outputs": [
        {
          "name": "stdin",
          "output_type": "stream",
          "text": [
            "enter a number: 37\n"
          ]
        },
        {
          "name": "stdout",
          "output_type": "stream",
          "text": [
            "given number is not divided by 7.\n"
          ]
        }
      ],
      "source": [
        "num=int(input(\"enter a number:\",))\n",
        "if num%7==0:\n",
        "    print(\"given number is divided by 7.\")\n",
        "else:\n",
        "    print(\"given number is not divided by 7.\")"
      ]
    },
    {
      "cell_type": "code",
      "execution_count": null,
      "id": "a4b3ad30-d854-42ff-acc9-95791b4ab69c",
      "metadata": {
        "id": "a4b3ad30-d854-42ff-acc9-95791b4ab69c",
        "outputId": "40235f68-7697-4c50-fdba-0c76a71a7610"
      },
      "outputs": [
        {
          "name": "stdin",
          "output_type": "stream",
          "text": [
            "enter a number: 37\n"
          ]
        },
        {
          "name": "stdout",
          "output_type": "stream",
          "text": [
            "given number is not divided by 7.\n"
          ]
        }
      ],
      "source": [
        "num=int(input(\"enter a number:\",))\n",
        "if num%7==0:\n",
        "    print(\"given number is divided by 7.\")\n",
        "else:\n",
        "    print(\"given number is not divided by 7.\")"
      ]
    },
    {
      "cell_type": "code",
      "execution_count": null,
      "id": "c384ad25-fa61-471a-bdc5-e4e15592d6d5",
      "metadata": {
        "id": "c384ad25-fa61-471a-bdc5-e4e15592d6d5",
        "outputId": "93b68444-4c23-43a6-e331-5ebbe44fc4a8"
      },
      "outputs": [
        {
          "name": "stdin",
          "output_type": "stream",
          "text": [
            "enter a number: 65\n"
          ]
        },
        {
          "name": "stdout",
          "output_type": "stream",
          "text": [
            "Hello\n"
          ]
        }
      ],
      "source": [
        "c"
      ]
    },
    {
      "cell_type": "code",
      "execution_count": null,
      "id": "da82b796-9dbe-40d9-a971-3f43033aed02",
      "metadata": {
        "id": "da82b796-9dbe-40d9-a971-3f43033aed02",
        "outputId": "bb1fe9a4-9b0c-46a5-c9e5-d442657819b3"
      },
      "outputs": [
        {
          "name": "stdin",
          "output_type": "stream",
          "text": [
            "enter a number: 67\n"
          ]
        },
        {
          "name": "stdout",
          "output_type": "stream",
          "text": [
            "last digit is not divisible by 3.\n"
          ]
        }
      ],
      "source": [
        "num=int(input(\"enter a number:\"))\n",
        "last_digit=num%10\n",
        "if last_digit%3==0:\n",
        "    print(\"last digit is divisible by 3.\")\n",
        "else:\n",
        "    print(\"last digit is not divisible by 3.\")\n"
      ]
    },
    {
      "cell_type": "code",
      "execution_count": null,
      "id": "1ebd5354-c43a-426a-ad29-ee241b19081b",
      "metadata": {
        "id": "1ebd5354-c43a-426a-ad29-ee241b19081b",
        "outputId": "51a0f0c2-014e-445b-f397-87674e47757b"
      },
      "outputs": [
        {
          "name": "stdin",
          "output_type": "stream",
          "text": [
            "enter a number: -74\n"
          ]
        },
        {
          "name": "stdout",
          "output_type": "stream",
          "text": [
            "NEGITIVE\n"
          ]
        }
      ],
      "source": [
        "num=int(input(\"enter a number:\",))\n",
        "if num>0:\n",
        "    print(\"POSITIVE\")\n",
        "else:\n",
        "    print(\"NEGITIVE\")"
      ]
    },
    {
      "cell_type": "code",
      "execution_count": null,
      "id": "4ae869d6-f675-43dd-a029-713aef5e4ccf",
      "metadata": {
        "id": "4ae869d6-f675-43dd-a029-713aef5e4ccf"
      },
      "outputs": [],
      "source": []
    }
  ],
  "metadata": {
    "kernelspec": {
      "display_name": "Python [conda env:base] *",
      "language": "python",
      "name": "conda-base-py"
    },
    "language_info": {
      "codemirror_mode": {
        "name": "ipython",
        "version": 3
      },
      "file_extension": ".py",
      "mimetype": "text/x-python",
      "name": "python",
      "nbconvert_exporter": "python",
      "pygments_lexer": "ipython3",
      "version": "3.12.7"
    },
    "colab": {
      "provenance": [],
      "include_colab_link": true
    }
  },
  "nbformat": 4,
  "nbformat_minor": 5
}