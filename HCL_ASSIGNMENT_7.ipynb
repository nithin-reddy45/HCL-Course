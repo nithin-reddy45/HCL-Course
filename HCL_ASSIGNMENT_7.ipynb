{
  "cells": [
    {
      "cell_type": "markdown",
      "metadata": {
        "id": "view-in-github",
        "colab_type": "text"
      },
      "source": [
        "<a href=\"https://colab.research.google.com/github/nithin-reddy45/HCL-Course/blob/main/HCL_ASSIGNMENT_7.ipynb\" target=\"_parent\"><img src=\"https://colab.research.google.com/assets/colab-badge.svg\" alt=\"Open In Colab\"/></a>"
      ]
    },
    {
      "cell_type": "code",
      "execution_count": null,
      "id": "fa4917b8-546f-44b0-b470-55889fd3524b",
      "metadata": {
        "id": "fa4917b8-546f-44b0-b470-55889fd3524b",
        "outputId": "39f97265-e426-40d4-a07e-831f0bf77305"
      },
      "outputs": [
        {
          "name": "stdout",
          "output_type": "stream",
          "text": [
            "the total sales for all products  is 33500.0\n"
          ]
        }
      ],
      "source": [
        "import csv\n",
        "total_sales=0\n",
        "with open(\"sales_data.csv\",\"r\") as file:\n",
        "    content=csv.DictReader(file)\n",
        "    for row in content:\n",
        "        total_sales += float(row[\"Total Sales\"])\n",
        "\n",
        "print(\"the total sales for all products  is\",total_sales)"
      ]
    },
    {
      "cell_type": "code",
      "execution_count": null,
      "id": "929fe92a-79f2-48bf-a8f2-d3fd732868bc",
      "metadata": {
        "id": "929fe92a-79f2-48bf-a8f2-d3fd732868bc",
        "outputId": "8b3db8d1-6d68-42ba-9803-ec1a1e04b58d"
      },
      "outputs": [
        {
          "name": "stdout",
          "output_type": "stream",
          "text": [
            "the employee's with salary greater than 50000\n",
            "Name:Bob Johnson,Department:Engineering\n",
            "Name:Sara Lee,Department:Finanace\n"
          ]
        }
      ],
      "source": [
        "import csv\n",
        "with open(\"employee_info.csv\",\"r\") as file:\n",
        "    content=csv.DictReader(file)\n",
        "    print(\"the employee's with salary greater than 50000\")\n",
        "    for row in content:\n",
        "        if int(row[\"Salary\"])>50000:\n",
        "            print(f\"Name:{row[\"Name\"]},Department:{row[\"Department\"]}\")"
      ]
    },
    {
      "cell_type": "code",
      "execution_count": null,
      "id": "29cdf856-331b-41fc-a418-daf7824880c7",
      "metadata": {
        "id": "29cdf856-331b-41fc-a418-daf7824880c7",
        "outputId": "a45b4dda-1247-41d6-b4db-689a52744738"
      },
      "outputs": [
        {
          "name": "stdin",
          "output_type": "stream",
          "text": [
            "enter your birth year: 2005\n"
          ]
        },
        {
          "name": "stdout",
          "output_type": "stream",
          "text": [
            "You will turn 100 years old in the year 2105.\n"
          ]
        }
      ],
      "source": [
        "try:\n",
        "    birth_year = int(input(\"Enter your birth year: \"))\n",
        "    if birth_year < 0:\n",
        "        raise ValueError(\"Negative value entered.\")\n",
        "    year_turn_100 = birth_year + 100\n",
        "    print(f\"You will turn 100 years old in the year {year_turn_100}.\")\n",
        "except ValueError:\n",
        "    print(\"Invalid input. Please enter a valid birth year.\")\n",
        "\n",
        "\n",
        ""
      ]
    },
    {
      "cell_type": "code",
      "execution_count": null,
      "id": "7c73530b-47a4-4421-8798-1aba25778430",
      "metadata": {
        "id": "7c73530b-47a4-4421-8798-1aba25778430",
        "outputId": "43fb8b4f-6785-4aad-81b8-066f3b3bcb42"
      },
      "outputs": [
        {
          "name": "stdin",
          "output_type": "stream",
          "text": [
            "Enter index number:  2\n"
          ]
        },
        {
          "name": "stdout",
          "output_type": "stream",
          "text": [
            "The friend at index 2 is Bujji thalli.\n"
          ]
        }
      ],
      "source": [
        "friends = [\"Nithin\", \"Harsha \", \"Bujji thalli\", \"Shankar\",\"Karthik\"]\n",
        "try:\n",
        "    index = int(input(\"Enter index number: \"))\n",
        "    print(f\"The friend at index {index} is {friends[index]}.\")\n",
        "except IndexError:\n",
        "    print(\"Invalid index. Please enter a valid index number.\")\n",
        "\n",
        "except ValueError:\n",
        "\n",
        "    print(\"Invalid input. Please enter a valid integer.\")\n"
      ]
    },
    {
      "cell_type": "code",
      "execution_count": null,
      "id": "587140b6-201d-4fc0-aca4-ff764cdc4ca8",
      "metadata": {
        "id": "587140b6-201d-4fc0-aca4-ff764cdc4ca8",
        "outputId": "8bfaf67f-4405-453f-a692-858510e6f45c"
      },
      "outputs": [
        {
          "name": "stdout",
          "output_type": "stream",
          "text": [
            "Student: name, Grade: grade\n",
            "Student: nithin, Grade: A\n",
            "Student: harsha, Grade: S\n",
            "Student: shankar, Grade: A\n",
            "Student: karthik, Grade: S\n"
          ]
        }
      ],
      "source": [
        "import csv\n",
        "\n",
        "try:\n",
        "    with open(\"students_data.csv\", \"r\") as file:\n",
        "        reader = csv.reader(file)\n",
        "        for row in reader:\n",
        "            if len(row) < 2:\n",
        "                raise ValueError(\"Missing values in the row.\")\n",
        "            name = row[0]\n",
        "            grade = (row[1])\n",
        "            print(f\"Student: {name}, Grade: {grade}\")\n",
        "except FileNotFoundError:\n",
        "    print(\"The file does not exist.\")\n",
        "except ValueError as e:\n",
        "    print(f\"Invalid data found in the file: {e}\")\n"
      ]
    },
    {
      "cell_type": "code",
      "execution_count": null,
      "id": "74f4c505-096b-498d-9533-4d882d1811c9",
      "metadata": {
        "id": "74f4c505-096b-498d-9533-4d882d1811c9"
      },
      "outputs": [],
      "source": []
    },
    {
      "cell_type": "code",
      "execution_count": null,
      "id": "0aada0ed-dcb4-462f-b1f9-2a80b3695329",
      "metadata": {
        "id": "0aada0ed-dcb4-462f-b1f9-2a80b3695329"
      },
      "outputs": [],
      "source": []
    }
  ],
  "metadata": {
    "kernelspec": {
      "display_name": "Python [conda env:base] *",
      "language": "python",
      "name": "conda-base-py"
    },
    "language_info": {
      "codemirror_mode": {
        "name": "ipython",
        "version": 3
      },
      "file_extension": ".py",
      "mimetype": "text/x-python",
      "name": "python",
      "nbconvert_exporter": "python",
      "pygments_lexer": "ipython3",
      "version": "3.12.7"
    },
    "colab": {
      "provenance": [],
      "include_colab_link": true
    }
  },
  "nbformat": 4,
  "nbformat_minor": 5
}