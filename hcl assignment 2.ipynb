{
 "cells": [
  {
   "cell_type": "code",
   "execution_count": 14,
   "id": "80aa9103-b214-431b-b585-285cdbe2c13f",
   "metadata": {},
   "outputs": [
    {
     "name": "stdin",
     "output_type": "stream",
     "text": [
      "enter no of days late: 15\n"
     ]
    },
    {
     "name": "stdout",
     "output_type": "stream",
     "text": [
      "fine to pay:$ 75\n"
     ]
    }
   ],
   "source": [
    "days=int(input(\"enter no of days late:\"))\n",
    "if days<=5:\n",
    "    print(\"fine to pay:$\",days*2)\n",
    "elif days>=6 and days<=10:\n",
    "    print(\"fine to pay:$\",days*3)\n",
    "elif days>=11 and days<=30:\n",
    "    print(\"fine to pay:$\",days*5)\n",
    "else:\n",
    "    print(\"membership is suspended\")"
   ]
  },
  {
   "cell_type": "code",
   "execution_count": 4,
   "id": "5ea0502b-e634-4c69-b38c-9cde9a492dd7",
   "metadata": {},
   "outputs": [
    {
     "name": "stdin",
     "output_type": "stream",
     "text": [
      "your account balance is: 610\n",
      "enter withdrawal amount: 100\n"
     ]
    },
    {
     "name": "stdout",
     "output_type": "stream",
     "text": [
      "transaction successful\n",
      "new balance: 500\n"
     ]
    }
   ],
   "source": [
    "account_balance=int(input(\"your account balance is:\"))\n",
    "withdrawal_amount=int(input(\"enter withdrawal amount:\"))\n",
    "min_balance=500\n",
    "transaction_fee=10\n",
    "if withdrawal_amount%100 !=0:\n",
    "    print(\"please enter amount in multiple of 100's\")\n",
    "elif withdrawal_amount +transaction_fee> account_balance-min_balance:\n",
    "    print(\"insufficient balance\")\n",
    "else:\n",
    "    account_balance -= (withdrawal_amount+transaction_fee)\n",
    "    print(\"transaction successful\")\n",
    "    print(\"new balance:\",account_balance)\n"
   ]
  },
  {
   "cell_type": "code",
   "execution_count": 26,
   "id": "55aafaf2-bdb3-4617-9026-24d30ee2ae8e",
   "metadata": {},
   "outputs": [
    {
     "name": "stdin",
     "output_type": "stream",
     "text": [
      "enter marks of subject_1: 90\n",
      "enter marks of subject_2: 96\n",
      "enter marks of subject_3: 97\n",
      "enter marks of subject_4: 98\n",
      "enter marks of subject_5: 95\n"
     ]
    },
    {
     "name": "stdout",
     "output_type": "stream",
     "text": [
      "avg marks: 95.2\n",
      "Excellent\n"
     ]
    }
   ],
   "source": [
    "subject_1=float(input(\"enter marks of subject_1:\"))\n",
    "subject_2=float(input(\"enter marks of subject_2:\"))\n",
    "subject_3=float(input(\"enter marks of subject_3:\"))\n",
    "subject_4=float(input(\"enter marks of subject_4:\"))\n",
    "subject_5=float(input(\"enter marks of subject_5:\"))\n",
    "avg=(subject_1+subject_2+subject_3+subject_4+subject_5)/5\n",
    "print(\"avg marks:\",avg)\n",
    "if avg>=90:\n",
    "    print(\"Excellent\")\n",
    "elif avg>=75 and avg<=89:\n",
    "    print(\"Good\")\n",
    "elif avg>=50 and avg<=74:\n",
    "    print(\"Average\")\n",
    "else:\n",
    "    print(\"Needs improvement\")"
   ]
  },
  {
   "cell_type": "code",
   "execution_count": 38,
   "id": "0cb701ea-68d9-4d70-824a-15bca4e5b66b",
   "metadata": {},
   "outputs": [
    {
     "name": "stdin",
     "output_type": "stream",
     "text": [
      "enter a number: 0\n"
     ]
    },
    {
     "name": "stdout",
     "output_type": "stream",
     "text": [
      "zero is neither positive nor negative\n"
     ]
    }
   ],
   "source": [
    "number=int(input(\"enter a number:\"))\n",
    "if number>0:\n",
    "    if number%2==0:\n",
    "        print(\"your number is positive and even\")\n",
    "    else:\n",
    "        print(\"your number is positive and odd\")\n",
    "elif number<0:\n",
    "    print(\"you give a negative number and its absolute value is :\",-1*number)\n",
    "else:\n",
    "    print(\"zero is neither positive nor negative\")"
   ]
  },
  {
   "cell_type": "code",
   "execution_count": 44,
   "id": "f14ec465-b51f-4f51-b850-94906ca06f62",
   "metadata": {},
   "outputs": [
    {
     "name": "stdin",
     "output_type": "stream",
     "text": [
      "enter no.of items: 5\n",
      "enter the price of item1: 150\n",
      "enter the price of item2: 670\n",
      "enter the price of item3: 530\n",
      "enter the price of item4: 28\n",
      "enter the price of item5: 10\n"
     ]
    },
    {
     "name": "stdout",
     "output_type": "stream",
     "text": [
      "total amount without discount: 1388.0\n",
      "discount amount: 277.6\n",
      "final amount to pay after discount 1110.4\n"
     ]
    }
   ],
   "source": [
    "num_items=int(input(\"enter no.of items:\"))\n",
    "total_cost=0\n",
    "for i in range(num_items):\n",
    "    price=float(input(f\"enter the price of item{i+1}:\"))\n",
    "    total_cost +=price\n",
    "if total_cost>=500:\n",
    "    discount=0.2\n",
    "elif total_cost<=499 and total_cost>=200:\n",
    "    discount=0.1\n",
    "else:\n",
    "    discount=0\n",
    "discount_amount=total_cost*discount\n",
    "final_amount=total_cost-discount_amount\n",
    "print(\"total amount without discount:\",total_cost)\n",
    "print(\"discount amount:\",discount_amount)\n",
    "print(\"final amount to pay after discount\",final_amount)"
   ]
  },
  {
   "cell_type": "code",
   "execution_count": null,
   "id": "c53d11ad-bf08-4540-9793-3e08bc2da47f",
   "metadata": {},
   "outputs": [],
   "source": []
  }
 ],
 "metadata": {
  "kernelspec": {
   "display_name": "Python [conda env:base] *",
   "language": "python",
   "name": "conda-base-py"
  },
  "language_info": {
   "codemirror_mode": {
    "name": "ipython",
    "version": 3
   },
   "file_extension": ".py",
   "mimetype": "text/x-python",
   "name": "python",
   "nbconvert_exporter": "python",
   "pygments_lexer": "ipython3",
   "version": "3.12.7"
  }
 },
 "nbformat": 4,
 "nbformat_minor": 5
}
