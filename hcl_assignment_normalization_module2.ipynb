{
  "cells": [
    {
      "cell_type": "markdown",
      "metadata": {
        "id": "view-in-github",
        "colab_type": "text"
      },
      "source": [
        "<a href=\"https://colab.research.google.com/github/nithin-reddy45/HCL-Course/blob/main/hcl_assignment_normalization_module2.ipynb\" target=\"_parent\"><img src=\"https://colab.research.google.com/assets/colab-badge.svg\" alt=\"Open In Colab\"/></a>"
      ]
    },
    {
      "cell_type": "code",
      "execution_count": null,
      "id": "e698d433-bbe8-4c2d-852a-9b338c099bd0",
      "metadata": {
        "id": "e698d433-bbe8-4c2d-852a-9b338c099bd0",
        "outputId": "31a4db4d-8384-4352-85fb-249e5af47103"
      },
      "outputs": [
        {
          "name": "stdout",
          "output_type": "stream",
          "text": [
            "     Brand Colour  Brand_Label\n",
            "0     Puma  White            3\n",
            "1     Nike  Black            1\n",
            "2   Adidas  Brown            0\n",
            "3    Sparx  Green            4\n",
            "4  Striker  Black            5\n",
            "5     One8   Blue            2\n"
          ]
        },
        {
          "data": {
            "text/html": [
              "<div>\n",
              "<style scoped>\n",
              "    .dataframe tbody tr th:only-of-type {\n",
              "        vertical-align: middle;\n",
              "    }\n",
              "\n",
              "    .dataframe tbody tr th {\n",
              "        vertical-align: top;\n",
              "    }\n",
              "\n",
              "    .dataframe thead th {\n",
              "        text-align: right;\n",
              "    }\n",
              "</style>\n",
              "<table border=\"1\" class=\"dataframe\">\n",
              "  <thead>\n",
              "    <tr style=\"text-align: right;\">\n",
              "      <th></th>\n",
              "      <th>Brand</th>\n",
              "      <th>Brand_Label</th>\n",
              "      <th>Colour_Black</th>\n",
              "      <th>Colour_Blue</th>\n",
              "      <th>Colour_Brown</th>\n",
              "      <th>Colour_Green</th>\n",
              "      <th>Colour_White</th>\n",
              "    </tr>\n",
              "  </thead>\n",
              "  <tbody>\n",
              "    <tr>\n",
              "      <th>0</th>\n",
              "      <td>Puma</td>\n",
              "      <td>3</td>\n",
              "      <td>False</td>\n",
              "      <td>False</td>\n",
              "      <td>False</td>\n",
              "      <td>False</td>\n",
              "      <td>True</td>\n",
              "    </tr>\n",
              "    <tr>\n",
              "      <th>1</th>\n",
              "      <td>Nike</td>\n",
              "      <td>1</td>\n",
              "      <td>True</td>\n",
              "      <td>False</td>\n",
              "      <td>False</td>\n",
              "      <td>False</td>\n",
              "      <td>False</td>\n",
              "    </tr>\n",
              "    <tr>\n",
              "      <th>2</th>\n",
              "      <td>Adidas</td>\n",
              "      <td>0</td>\n",
              "      <td>False</td>\n",
              "      <td>False</td>\n",
              "      <td>True</td>\n",
              "      <td>False</td>\n",
              "      <td>False</td>\n",
              "    </tr>\n",
              "    <tr>\n",
              "      <th>3</th>\n",
              "      <td>Sparx</td>\n",
              "      <td>4</td>\n",
              "      <td>False</td>\n",
              "      <td>False</td>\n",
              "      <td>False</td>\n",
              "      <td>True</td>\n",
              "      <td>False</td>\n",
              "    </tr>\n",
              "    <tr>\n",
              "      <th>4</th>\n",
              "      <td>Striker</td>\n",
              "      <td>5</td>\n",
              "      <td>True</td>\n",
              "      <td>False</td>\n",
              "      <td>False</td>\n",
              "      <td>False</td>\n",
              "      <td>False</td>\n",
              "    </tr>\n",
              "    <tr>\n",
              "      <th>5</th>\n",
              "      <td>One8</td>\n",
              "      <td>2</td>\n",
              "      <td>False</td>\n",
              "      <td>True</td>\n",
              "      <td>False</td>\n",
              "      <td>False</td>\n",
              "      <td>False</td>\n",
              "    </tr>\n",
              "  </tbody>\n",
              "</table>\n",
              "</div>"
            ],
            "text/plain": [
              "     Brand  Brand_Label  Colour_Black  Colour_Blue  Colour_Brown  \\\n",
              "0     Puma            3         False        False         False   \n",
              "1     Nike            1          True        False         False   \n",
              "2   Adidas            0         False        False          True   \n",
              "3    Sparx            4         False        False         False   \n",
              "4  Striker            5          True        False         False   \n",
              "5     One8            2         False         True         False   \n",
              "\n",
              "   Colour_Green  Colour_White  \n",
              "0         False          True  \n",
              "1         False         False  \n",
              "2         False         False  \n",
              "3          True         False  \n",
              "4         False         False  \n",
              "5         False         False  "
            ]
          },
          "execution_count": 88,
          "metadata": {},
          "output_type": "execute_result"
        }
      ],
      "source": [
        "from sklearn.preprocessing import LabelEncoder,MinMaxScaler,StandardScaler\n",
        "import pandas as pd\n",
        "data={\n",
        "    \"Brand\":[\"Puma\",\"Nike\",\"Adidas\",\"Sparx\",\"Striker\",\"One8\"],\n",
        "    \"Colour\":[\"White\",\"Black\",\"Brown\",\"Green\",\"Black\",\"Blue\"]\n",
        "}\n",
        "df=pd.DataFrame(data)\n",
        "df\n",
        "le=LabelEncoder()\n",
        "df[\"Brand_Label\"]=le.fit_transform(data[\"Brand\"])\n",
        "print(df)\n",
        "data_ohe=pd.get_dummies(df,columns=[\"Colour\"])\n",
        "data_ohe"
      ]
    },
    {
      "cell_type": "code",
      "execution_count": null,
      "id": "76d09231-2b7f-44d3-b02d-cbc6b86731a9",
      "metadata": {
        "id": "76d09231-2b7f-44d3-b02d-cbc6b86731a9",
        "outputId": "e1a983d6-5670-4463-f3e1-5711c4347200"
      },
      "outputs": [
        {
          "name": "stdout",
          "output_type": "stream",
          "text": [
            "    Name  Height  Speed\n",
            "0  Robo1     158     60\n",
            "1  Robo2     173     75\n",
            "2  Robo3     126     45\n",
            "3  Robo4     144     66\n",
            "4  Robo5     170     56\n",
            "    Name  Height_Normalized  Speed_Normalized\n",
            "0  Robo1           0.680851          0.500000\n",
            "1  Robo2           1.000000          1.000000\n",
            "2  Robo3           0.000000          0.000000\n",
            "3  Robo4           0.382979          0.700000\n",
            "4  Robo5           0.936170          0.366667\n"
          ]
        }
      ],
      "source": [
        "\n",
        "from sklearn.preprocessing import LabelEncoder,MinMaxScaler,StandardScaler\n",
        "import pandas as pd\n",
        "data1={\n",
        "    \"Name\":[\"Robo1\",\"Robo2\",\"Robo3\",\"Robo4\",\"Robo5\"],\n",
        "    \"Height\":[158,173,126,144,170],\n",
        "    \"Speed\":[60,75,45,66,56]\n",
        "}\n",
        "df1=pd.DataFrame(data1)\n",
        "print(df1)\n",
        "numeric = df1[[\"Height\", \"Speed\"]]\n",
        "scaler = MinMaxScaler()\n",
        "normalized_data = scaler.fit_transform(numeric)\n",
        "normalized_df1 = pd.DataFrame(normalized_data, columns=['Height_Normalized', 'Speed_Normalized'])\n",
        "df1 = pd.concat([df1['Name'], normalized_df1], axis=1)\n",
        "print(df1)"
      ]
    },
    {
      "cell_type": "code",
      "execution_count": null,
      "id": "ff2eee12-0eaa-49c0-b794-89aa5ecf6e81",
      "metadata": {
        "id": "ff2eee12-0eaa-49c0-b794-89aa5ecf6e81",
        "outputId": "0fa7a415-f265-48fa-f934-7adc19e1eb29"
      },
      "outputs": [
        {
          "name": "stdout",
          "output_type": "stream",
          "text": [
            "    Name  Height_Normalized  Speed_Normalized\n",
            "0  Robo1           0.680851          0.500000\n",
            "1  Robo2           1.000000          1.000000\n",
            "2  Robo3           0.000000          0.000000\n",
            "3  Robo4           0.382979          0.700000\n",
            "4  Robo5           0.936170          0.366667\n"
          ]
        }
      ],
      "source": [
        "numeric = df1[[\"Height\", \"Speed\"]]\n",
        "scaler = MinMaxScaler()\n",
        "normalized_data = scaler.fit_transform(numeric)\n",
        "normalized_df1 = pd.DataFrame(normalized_data, columns=['Height_Normalized', 'Speed_Normalized'])\n",
        "df1 = pd.concat([df1['Name'], normalized_df1], axis=1)\n",
        "print(df1)"
      ]
    },
    {
      "cell_type": "code",
      "execution_count": null,
      "id": "5fbee206-e3b3-42fe-9076-d53f6e17ec6a",
      "metadata": {
        "id": "5fbee206-e3b3-42fe-9076-d53f6e17ec6a"
      },
      "outputs": [],
      "source": []
    },
    {
      "cell_type": "code",
      "execution_count": null,
      "id": "8e7552c6-a1b0-4274-a8b1-7bc268ea250f",
      "metadata": {
        "id": "8e7552c6-a1b0-4274-a8b1-7bc268ea250f"
      },
      "outputs": [],
      "source": []
    }
  ],
  "metadata": {
    "kernelspec": {
      "display_name": "Python [conda env:base] *",
      "language": "python",
      "name": "conda-base-py"
    },
    "language_info": {
      "codemirror_mode": {
        "name": "ipython",
        "version": 3
      },
      "file_extension": ".py",
      "mimetype": "text/x-python",
      "name": "python",
      "nbconvert_exporter": "python",
      "pygments_lexer": "ipython3",
      "version": "3.12.7"
    },
    "colab": {
      "provenance": [],
      "include_colab_link": true
    }
  },
  "nbformat": 4,
  "nbformat_minor": 5
}